{
 "cells": [
  {
   "cell_type": "markdown",
   "id": "21d31fae",
   "metadata": {},
   "source": [
    "## Print Statements"
   ]
  },
  {
   "cell_type": "code",
   "execution_count": 1,
   "id": "ee7a76e0",
   "metadata": {},
   "outputs": [
    {
     "name": "stdout",
     "output_type": "stream",
     "text": [
      "Hello World\n"
     ]
    }
   ],
   "source": [
    "print(\"Hello World\")"
   ]
  },
  {
   "cell_type": "code",
   "execution_count": 2,
   "id": "a726b3da",
   "metadata": {},
   "outputs": [
    {
     "name": "stdout",
     "output_type": "stream",
     "text": [
      "count of 5:->5->4->3->2->1\n"
     ]
    }
   ],
   "source": [
    "print(\"count of 5:\",5,4,3,2,1,sep='->')"
   ]
  },
  {
   "cell_type": "code",
   "execution_count": 3,
   "id": "9fde1aca",
   "metadata": {},
   "outputs": [
    {
     "name": "stdout",
     "output_type": "stream",
     "text": [
      "Name:-Bishal\n",
      "Roll no:-24\n"
     ]
    }
   ],
   "source": [
    "name,roll=\"Bishal\",24\n",
    "print(\"Name:\",name,sep='-')\n",
    "print(\"Roll no:\",roll,sep='-')"
   ]
  },
  {
   "cell_type": "markdown",
   "id": "7efedf2b",
   "metadata": {},
   "source": [
    "## Type conversion"
   ]
  },
  {
   "cell_type": "code",
   "execution_count": 4,
   "id": "c5cb86fb",
   "metadata": {},
   "outputs": [
    {
     "name": "stdout",
     "output_type": "stream",
     "text": [
      "Sum of 24 and 2.4 is 26.4\n",
      "Data type of n1: <class 'int'> Data type of n2: <class 'float'> Data type of n3: <class 'float'>\tvalue of n4:24 Data type of n4: <class 'str'> Value of n5:{n5} Data type of n5: 24 <class 'int'>\n"
     ]
    }
   ],
   "source": [
    "n1,n2=24,2.4\n",
    "n3=n1+n2\n",
    "print(\"Sum of\",n1,\"and\",n2,\"is\",n3,end=\"\\n\")\n",
    "print(\"Data type of n1:\",type(n1),\"Data type of n2:\",type(n2),\"Data type of n3:\",type(n3),end='\\t')\n",
    "n4=\"24\"\n",
    "n5=int(n4)\n",
    "print(f\"value of n4:{n4} Data type of n4:\",type(n4),\"Value of n5:{n5} Data type of n5:\",n5,type(n5))"
   ]
  },
  {
   "cell_type": "markdown",
   "id": "7ba74602",
   "metadata": {},
   "source": [
    "## Control statement and operators"
   ]
  },
  {
   "cell_type": "code",
   "execution_count": 5,
   "id": "520f26f3",
   "metadata": {},
   "outputs": [
    {
     "name": "stdout",
     "output_type": "stream",
     "text": [
      "Enter any two numbers5 4\n",
      "Enter the operator you want to use to manipulate your data:+\n",
      "Sum of 5 and 4 is:9\n"
     ]
    }
   ],
   "source": [
    "a,b=map(int,input(\"Enter any two numbers\").split())\n",
    "choice=input(\"Enter the operator you want to use to manipulate your data:\")\n",
    "\n",
    "if choice==\"+\":\n",
    "    print(f\"Sum of {a} and {b} is:{a+b}\")\n",
    "elif choice==\"-\":\n",
    "     print(f\"Sum of {a} and {b} is:{a-b}\")\n",
    "elif choice==\"*\":\n",
    "     print(f\"Product of {a} and {b} is:{a*b}\")\n",
    "elif choice==\"/\":\n",
    "     print(f\"divison of {a} and {b} is:{a/b}\")\n",
    "elif choice==\"rem\":\n",
    "     print(f\"reminder of {a} and {b} is:{a%b}\")\n",
    "elif choice==\">\":\n",
    "    if a>b:\n",
    "        temp=a\n",
    "    else:\n",
    "        temp=b    \n",
    "    print(f\"Greatest number between {a} and {b} is:{temp}\")\n",
    "elif choice==\"<\":\n",
    "    if a<b:\n",
    "        temp=a\n",
    "    else:\n",
    "        temp=b    \n",
    "    print(f\"Smallest number between {a} and {b} is:{temp}\")\n",
    "else:\n",
    "    print(\"Invalid operator!\")"
   ]
  },
  {
   "cell_type": "markdown",
   "id": "81b456d3",
   "metadata": {},
   "source": [
    "## loops and break,continue statements"
   ]
  },
  {
   "cell_type": "code",
   "execution_count": 6,
   "id": "c490cf2a",
   "metadata": {},
   "outputs": [
    {
     "name": "stdout",
     "output_type": "stream",
     "text": [
      "5\n",
      "9\n",
      "11\n",
      "13\n",
      "15\n",
      "17\n",
      "19\n",
      "21\n",
      "23\n",
      "25\n",
      "27\n",
      "29\n",
      "31\n",
      "33\n"
     ]
    }
   ],
   "source": [
    "n=50\n",
    "for i in range(5,40,2):\n",
    "    if i==35:\n",
    "        break\n",
    "    if i==7:\n",
    "        continue\n",
    "    print(i)"
   ]
  },
  {
   "cell_type": "code",
   "execution_count": 7,
   "id": "bdb8ae07",
   "metadata": {},
   "outputs": [
    {
     "name": "stdout",
     "output_type": "stream",
     "text": [
      "1\n",
      "2\n",
      "3\n",
      "4\n",
      "5\n",
      "6\n",
      "7\n"
     ]
    }
   ],
   "source": [
    "i=1\n",
    "while i<10:\n",
    "    print(i)\n",
    "    if i==7:\n",
    "        break\n",
    "    i+=1"
   ]
  },
  {
   "cell_type": "markdown",
   "id": "2ff5ef0a",
   "metadata": {},
   "source": [
    "## Lists"
   ]
  },
  {
   "cell_type": "code",
   "execution_count": 65,
   "id": "79318c2d",
   "metadata": {
    "scrolled": true
   },
   "outputs": [
    {
     "name": "stdout",
     "output_type": "stream",
     "text": [
      "['Name', 'Roll', 'Passed']\n",
      "['Ram', 20, True]\n",
      "['Shyam', 22, False]\n"
     ]
    }
   ],
   "source": [
    "headings=[\"Name\",\"Roll\",\"Passed\"]\n",
    "student1=[\"Ram\",20,True]\n",
    "student2=[\"Shyam\",22,False]\n",
    "print(headings)\n",
    "print(student1)\n",
    "print(student2)"
   ]
  },
  {
   "cell_type": "code",
   "execution_count": 68,
   "id": "dc728989",
   "metadata": {},
   "outputs": [
    {
     "name": "stdout",
     "output_type": "stream",
     "text": [
      "['Ram', 20]\n",
      "[22, False]\n",
      "['Ram', True]\n"
     ]
    }
   ],
   "source": [
    "print(student1[:2])\n",
    "print(student2[1:])\n",
    "print(student1[::2])"
   ]
  },
  {
   "cell_type": "code",
   "execution_count": 54,
   "id": "c74f3768",
   "metadata": {},
   "outputs": [
    {
     "name": "stdout",
     "output_type": "stream",
     "text": [
      "Name of Student1: Ram \n",
      "Roll no of Student2:22\n"
     ]
    }
   ],
   "source": [
    "print(\"Name of Student1:\",student1[0],f\"\\nRoll no of Student2:{student2[1]}\")"
   ]
  },
  {
   "cell_type": "code",
   "execution_count": 55,
   "id": "b8500cb3",
   "metadata": {
    "scrolled": true
   },
   "outputs": [
    {
     "name": "stdout",
     "output_type": "stream",
     "text": [
      "0-Name\t1-Roll\t2-Passed\t\n",
      "\n",
      "0-Shyam\t1-22\t2-False\t\n",
      "\n",
      "0-Ram\t1-20\t2-True\t"
     ]
    }
   ],
   "source": [
    "for index,value in enumerate(headings):\n",
    "    print(index,value,sep='-',end='\\t')\n",
    "print('\\n')\n",
    "for index,value in enumerate(student2):\n",
    "    print(index,value,sep='-',end='\\t')\n",
    "print('\\n')\n",
    "for index,value in enumerate(student1):\n",
    "    print(index,value,sep='-',end='\\t')"
   ]
  },
  {
   "cell_type": "code",
   "execution_count": 56,
   "id": "f8ba2b16",
   "metadata": {},
   "outputs": [
    {
     "name": "stdout",
     "output_type": "stream",
     "text": [
      "0-Name\t1-Roll\t2-Passed\t\n",
      "\n",
      "0-Shyam\t1-22\t2-True\t\n",
      "\n",
      "0-Ram\t1-20\t2-True\t"
     ]
    }
   ],
   "source": [
    "student2[2]=True\n",
    "for index,value in enumerate(headings):\n",
    "    print(index,value,sep='-',end='\\t')\n",
    "print('\\n')\n",
    "for index,value in enumerate(student2):\n",
    "    print(index,value,sep='-',end='\\t')\n",
    "print('\\n')\n",
    "for index,value in enumerate(student1):\n",
    "    print(index,value,sep='-',end='\\t')"
   ]
  },
  {
   "cell_type": "code",
   "execution_count": 57,
   "id": "9ccc0318",
   "metadata": {},
   "outputs": [
    {
     "name": "stdout",
     "output_type": "stream",
     "text": [
      "['Shyam', 22, True]\n",
      "['Shyam', True]\n"
     ]
    }
   ],
   "source": [
    "print(student2)\n",
    "student2.remove(22)\n",
    "print(student2)"
   ]
  },
  {
   "cell_type": "code",
   "execution_count": 58,
   "id": "b1f0f3cb",
   "metadata": {},
   "outputs": [
    {
     "name": "stdout",
     "output_type": "stream",
     "text": [
      "['Shyam', True, 'Hari', 21]\n"
     ]
    }
   ],
   "source": [
    "student2.append(\"Hari\")\n",
    "student2.append(21)\n",
    "print(student2)"
   ]
  },
  {
   "cell_type": "code",
   "execution_count": 59,
   "id": "8ab76a3d",
   "metadata": {},
   "outputs": [
    {
     "name": "stdout",
     "output_type": "stream",
     "text": [
      "['Ram', 20, True, 'Shyam', True, 'Hari', 21]\n"
     ]
    }
   ],
   "source": [
    "student1.extend(student2)\n",
    "print(student1)"
   ]
  },
  {
   "cell_type": "markdown",
   "id": "805c4571",
   "metadata": {},
   "source": [
    "## Tuples"
   ]
  },
  {
   "cell_type": "code",
   "execution_count": 71,
   "id": "2159a83a",
   "metadata": {},
   "outputs": [
    {
     "name": "stdout",
     "output_type": "stream",
     "text": [
      "('Demon_souls', 'Dark_souls1', 'Dark_souls2', 'Bloodborne', 'Dark_souls3', 'Sekiro', 'Elden_ring')\n"
     ]
    }
   ],
   "source": [
    "fromSoftware=(\"Demon_souls\",\"Dark_souls1\",\"Dark_souls2\",\"Bloodborne\",\"Dark_souls3\",\"Sekiro\",\"Elden_ring\")\n",
    "print(fromSoftware)"
   ]
  },
  {
   "cell_type": "markdown",
   "id": "251dc6e7",
   "metadata": {},
   "source": [
    "#### the '{}' is mandatory "
   ]
  },
  {
   "cell_type": "code",
   "execution_count": 81,
   "id": "8f0b17f6",
   "metadata": {},
   "outputs": [
    {
     "name": "stdout",
     "output_type": "stream",
     "text": [
      "Latest  game released by fromsoftware: Elden_ring\n"
     ]
    }
   ],
   "source": [
    "print(\"Latest  game released by fromsoftware: {}\".format(fromSoftware[-1]))"
   ]
  },
  {
   "cell_type": "code",
   "execution_count": 84,
   "id": "07f9af81",
   "metadata": {},
   "outputs": [
    {
     "name": "stdout",
     "output_type": "stream",
     "text": [
      "Demon_souls\n",
      "Dark_souls1\n",
      "Dark_souls2\n",
      "Bloodborne\n",
      "Dark_souls3\n",
      "Sekiro\n",
      "Elden_ring\n"
     ]
    }
   ],
   "source": [
    "for detail in fromSoftware:\n",
    "    print(detail)"
   ]
  }
 ],
 "metadata": {
  "kernelspec": {
   "display_name": "Python 3 (ipykernel)",
   "language": "python",
   "name": "python3"
  },
  "language_info": {
   "codemirror_mode": {
    "name": "ipython",
    "version": 3
   },
   "file_extension": ".py",
   "mimetype": "text/x-python",
   "name": "python",
   "nbconvert_exporter": "python",
   "pygments_lexer": "ipython3",
   "version": "3.12.3"
  }
 },
 "nbformat": 4,
 "nbformat_minor": 5
}
