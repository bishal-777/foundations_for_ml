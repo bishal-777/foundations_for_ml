{
 "cells": [
  {
   "cell_type": "code",
   "execution_count": 2,
   "id": "73f2b89b",
   "metadata": {},
   "outputs": [],
   "source": [
    "import numpy as np"
   ]
  },
  {
   "cell_type": "markdown",
   "id": "70847034",
   "metadata": {},
   "source": [
    "## Tensor(similar to arrays)"
   ]
  },
  {
   "cell_type": "markdown",
   "id": "d1ec4485",
   "metadata": {},
   "source": [
    "### 0-D tensor/Scalar"
   ]
  },
  {
   "cell_type": "code",
   "execution_count": 22,
   "id": "fcced7f4",
   "metadata": {},
   "outputs": [
    {
     "name": "stdout",
     "output_type": "stream",
     "text": [
      "x0: 5\n",
      "Dimensions of x0: 0\n",
      "Shape of x0: ()\n",
      "Size of x0: 1\n",
      "Datatype of x0: int64\n"
     ]
    }
   ],
   "source": [
    "x0=np.array(5)\n",
    "print(\"x0:\",x0)\n",
    "print(\"Dimensions of x0:\",x0.ndim)\n",
    "print(\"Shape of x0:\",x0.shape)\n",
    "print(\"Size of x0:\",x0.size)\n",
    "print(\"Datatype of x0:\",x0.dtype)"
   ]
  },
  {
   "cell_type": "markdown",
   "id": "2191e53e",
   "metadata": {},
   "source": [
    "### 1-D tensor/Vector"
   ]
  },
  {
   "cell_type": "code",
   "execution_count": 23,
   "id": "4c44315f",
   "metadata": {},
   "outputs": [
    {
     "name": "stdout",
     "output_type": "stream",
     "text": [
      "x1: [5 6 7]\n",
      "Dimensions of x1: 1\n",
      "Shape of x1: (3,)\n",
      "Size of x1: 3\n",
      "Datatype of x1: int64\n"
     ]
    }
   ],
   "source": [
    "x1=np.array([5,6,7])\n",
    "print(\"x1:\",x1)\n",
    "print(\"Dimensions of x1:\",x1.ndim)\n",
    "print(\"Shape of x1:\",x1.shape)\n",
    "print(\"Size of x1:\",x1.size)\n",
    "print(\"Datatype of x1:\",x1.dtype)"
   ]
  },
  {
   "cell_type": "markdown",
   "id": "3339e134",
   "metadata": {},
   "source": [
    "### 2-D tensor/Matrix"
   ]
  },
  {
   "cell_type": "code",
   "execution_count": 28,
   "id": "eac3afe5",
   "metadata": {},
   "outputs": [
    {
     "name": "stdout",
     "output_type": "stream",
     "text": [
      "x2: [[2 4 5]\n",
      " [6 7 8]]\n",
      "Dimensions of x2: 2\n",
      "Shape of x2: (2, 3)\n",
      "Size of x2: 6\n",
      "Datatype of x2: int64\n"
     ]
    }
   ],
   "source": [
    "x2=np.array([[2,4,5],[6,7,8]])\n",
    "print(\"x2:\",x2)\n",
    "print(\"Dimensions of x2:\",x2.ndim)\n",
    "print(\"Shape of x2:\",x2.shape)\n",
    "print(\"Size of x2:\",x2.size)\n",
    "print(\"Datatype of x2:\",x2.dtype)"
   ]
  },
  {
   "cell_type": "markdown",
   "id": "0af6f9df",
   "metadata": {},
   "source": [
    "### 3-D tensor"
   ]
  },
  {
   "cell_type": "code",
   "execution_count": 39,
   "id": "23b4492a",
   "metadata": {},
   "outputs": [
    {
     "name": "stdout",
     "output_type": "stream",
     "text": [
      "x3: [[[ 4.   5. ]\n",
      "  [ 6.   7. ]]\n",
      "\n",
      " [[ 8.   9. ]\n",
      "  [10.2 14.5]]]\n",
      "Dimensions of x3: 3\n",
      "Shape of x3: (2, 2, 2)\n",
      "Size of x3: 8\n",
      "Datatype of x3: float64\n"
     ]
    }
   ],
   "source": [
    "x3=np.array([[[4,5],[6,7]],[[8,9],[10.2,14.5]]])\n",
    "print(\"x3:\",x3)\n",
    "print(\"Dimensions of x3:\",x3.ndim)\n",
    "print(\"Shape of x3:\",x3.shape)\n",
    "print(\"Size of x3:\",x3.size)\n",
    "\n",
    "print(\"Datatype of x3:\",x3.dtype)"
   ]
  },
  {
   "cell_type": "markdown",
   "id": "0895ed6e",
   "metadata": {},
   "source": [
    "## Some functions"
   ]
  },
  {
   "cell_type": "code",
   "execution_count": 41,
   "id": "fe8809c9",
   "metadata": {},
   "outputs": [
    {
     "name": "stdout",
     "output_type": "stream",
     "text": [
      "np.zeros of shape(2.2): [[0. 0.]\n",
      " [0. 0.]]\n",
      "np.ones of shape(2.2): [[1. 1.]\n",
      " [1. 1.]]\n",
      "identity matrix of shape(2.2):\n",
      " [[1. 0. 0. 0. 0.]\n",
      " [0. 1. 0. 0. 0.]\n",
      " [0. 0. 1. 0. 0.]\n",
      " [0. 0. 0. 1. 0.]\n",
      " [0. 0. 0. 0. 1.]]\n"
     ]
    }
   ],
   "source": [
    "print(\"np.zeros of shape(2.2):\",np.zeros((2,2)))\n",
    "print(\"np.ones of shape(2.2):\",np.ones((2,2)))\n",
    "print(\"identity matrix of shape(2.2):\\n\",np.eye((5)))    #rows=columns in identity matrix"
   ]
  },
  {
   "cell_type": "markdown",
   "id": "316b2035",
   "metadata": {},
   "source": [
    "## Indexing in tensors"
   ]
  },
  {
   "cell_type": "code",
   "execution_count": 53,
   "id": "7cb189f1",
   "metadata": {},
   "outputs": [
    {
     "name": "stdout",
     "output_type": "stream",
     "text": [
      "Element [0] in X:1 and element [4] in X:5\n",
      "Element row=1st and column=3([0][2]) in Y:7.4 and element [1][0] in X:0.4\n"
     ]
    }
   ],
   "source": [
    "x=np.array([1,2,3,4,5])\n",
    "y=np.array([[23.2,45,7.4],[0.4,23.9,9]])\n",
    "print(f\"Element [0] in X:{x[0]} and element [4] in X:{x[4]}\")\n",
    "print(f\"Element row=1st and column=3([0][2]) in Y:{y[0][2]} and element [1][0] in X:{y[1][0]}\")"
   ]
  },
  {
   "cell_type": "markdown",
   "id": "6a41c2ba",
   "metadata": {},
   "source": [
    "### Integer array indexing(storing array/tensor in variable)"
   ]
  },
  {
   "cell_type": "code",
   "execution_count": 71,
   "id": "bdd97504",
   "metadata": {},
   "outputs": [
    {
     "name": "stdout",
     "output_type": "stream",
     "text": [
      "matrix/2-D tensor of order 3*2:\n",
      "[[2.  4.  5. ]\n",
      " [9.4 3.5 7.1]]\n",
      " type:<class 'numpy.ndarray'>\n",
      "vector/1-D tensor of order 3*2:\n",
      "[2 4 7]\n",
      " type:<class 'numpy.ndarray'>\n"
     ]
    }
   ],
   "source": [
    "matrix_3_2=np.array([[2,4,5],[9.4,3.5,7.1]])\n",
    "print(f\"matrix/2-D tensor of order 3*2:\\n{matrix_3_2}\\n type:{type(matrix_3_2)}\")\n",
    "row=np.array([2,4,7])\n",
    "print(f\"vector/1-D tensor of order 3*2:\\n{row}\\n type:{type(row)}\")"
   ]
  },
  {
   "cell_type": "markdown",
   "id": "8996b864",
   "metadata": {},
   "source": [
    "### Slicing"
   ]
  },
  {
   "cell_type": "code",
   "execution_count": 98,
   "id": "9815870c",
   "metadata": {},
   "outputs": [
    {
     "name": "stdout",
     "output_type": "stream",
     "text": [
      "[[1 2 3]\n",
      " [4 5 6]\n",
      " [7 8 9]]\n",
      "1st row:\n",
      "[[1 2 3]]\n",
      "2st row:\n",
      "[[4 5 6]]\n",
      "1st column:\n",
      "[[1]\n",
      " [4]\n",
      " [7]]\n",
      "2nd column:\n",
      "[[2]\n",
      " [5]\n",
      " [8]]\n",
      "Taking 2 rows and 2 columns:\n",
      "[[1 2]\n",
      " [4 5]]\n"
     ]
    }
   ],
   "source": [
    "#array[row_start:row_end:row_step, col_start:col_end:column_step]\n",
    "m=np.array([[1,2,3],\n",
    "            [4,5,6],\n",
    "            [7,8,9]]) \n",
    "print(m)\n",
    "print(f\"1st row:\\n{m[0:1]}\")\n",
    "print(f\"2st row:\\n{m[1:2]}\")\n",
    "\n",
    "print(f\"1st column:\\n{m[:,0:1]}\")\n",
    "print(f\"2nd column:\\n{m[0:3,1:2]}\")\n",
    "\n",
    "print(f\"Taking 2 rows and 2 columns:\\n{m[0:2,0:2]}\")"
   ]
  },
  {
   "cell_type": "code",
   "execution_count": null,
   "id": "4ebcea9c",
   "metadata": {},
   "outputs": [],
   "source": []
  }
 ],
 "metadata": {
  "kernelspec": {
   "display_name": "Python 3 (ipykernel)",
   "language": "python",
   "name": "python3"
  },
  "language_info": {
   "codemirror_mode": {
    "name": "ipython",
    "version": 3
   },
   "file_extension": ".py",
   "mimetype": "text/x-python",
   "name": "python",
   "nbconvert_exporter": "python",
   "pygments_lexer": "ipython3",
   "version": "3.12.3"
  }
 },
 "nbformat": 4,
 "nbformat_minor": 5
}
