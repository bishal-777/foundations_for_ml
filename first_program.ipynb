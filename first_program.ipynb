{
 "cells": [
  {
   "cell_type": "code",
   "execution_count": 1,
   "id": "007d9605",
   "metadata": {},
   "outputs": [],
   "source": [
    "name=\"Bishal\""
   ]
  },
  {
   "cell_type": "code",
   "execution_count": 3,
   "id": "12fdd4d7",
   "metadata": {},
   "outputs": [
    {
     "name": "stdout",
     "output_type": "stream",
     "text": [
      "My first program in Jupyter Notebook\n",
      "coded by Bishal\n"
     ]
    }
   ],
   "source": [
    "print(f\"My first program in Jupyter Notebook\")\n",
    "print(f\"coded by {name}\")"
   ]
  },
  {
   "cell_type": "code",
   "execution_count": null,
   "id": "f707e2a1",
   "metadata": {},
   "outputs": [],
   "source": []
  }
 ],
 "metadata": {
  "kernelspec": {
   "display_name": "Python 3 (ipykernel)",
   "language": "python",
   "name": "python3"
  },
  "language_info": {
   "codemirror_mode": {
    "name": "ipython",
    "version": 3
   },
   "file_extension": ".py",
   "mimetype": "text/x-python",
   "name": "python",
   "nbconvert_exporter": "python",
   "pygments_lexer": "ipython3",
   "version": "3.12.3"
  }
 },
 "nbformat": 4,
 "nbformat_minor": 5
}
